{
 "cells": [
  {
   "cell_type": "code",
   "execution_count": 49,
   "metadata": {
    "collapsed": true
   },
   "outputs": [],
   "source": [
    "import matplotlib.pyplot as plt\n",
    "import pandas as pd\n",
    "import numpy as np\n",
    "%matplotlib inline"
   ]
  },
  {
   "cell_type": "code",
   "execution_count": 92,
   "metadata": {
    "collapsed": false
   },
   "outputs": [
    {
     "name": "stdout",
     "output_type": "stream",
     "text": [
      "points set([(11, 16), (7, 15), (1, 12), (1, 23), (4, 19), (5, 14), (21, 6), (21, 5), (13, 8), (19, 0), (24, 11)])\n",
      "hull [(1, 12), (1, 23), (19, 0), (24, 11)]\n",
      "colors [1000, 1000, 0, 0, 1000, 1000, 1000, 1000, 1000, 0, 0]\n"
     ]
    },
    {
     "data": {
      "text/plain": [
       "<matplotlib.collections.PathCollection at 0x10e638cd0>"
      ]
     },
     "execution_count": 92,
     "metadata": {},
     "output_type": "execute_result"
    },
    {
     "data": {
      "image/png": "[encoded data removed]",
      "text/plain": [
       "<matplotlib.figure.Figure at 0x10e5be310>"
      ]
     },
     "metadata": {},
     "output_type": "display_data"
    }
   ],
   "source": [
    "import matplotlib.path as mplPath\n",
    "def in_shape(pt, shape):\n",
    "    shape = shape + [shape[0]]f\n",
    "    lines = shape #[[shape[x], shape[x+1]] for x in xrange(len(shape)-1)]\n",
    "    shape = mplPath.Path(np.array(lines))\n",
    "    return shape.contains_point(pt)\n",
    "\n",
    "def complex_hull(points):\n",
    "    hull = list(points.copy())\n",
    "    for p1 in points:\n",
    "        for p2 in points - {p1}:\n",
    "            for p3 in points - {p1,p2}:\n",
    "                for p4 in points - {p1,p2,p3}:\n",
    "                    if p4 in hull and in_shape(p4, [p1,p2,p3]):\n",
    "                            hull.remove(p4)\n",
    "    return hull\n",
    "\n",
    "num = 11\n",
    "xs, ys = [np.random.randint(25) for x in xrange(num)],[np.random.randint(25) for x in xrange(num)]\n",
    "plt.scatter(xs, ys)\n",
    "points = set(zip(xs,ys))\n",
    "hull = complex_hull(points)\n",
    "xhull, yhull = zip(*hull)\n",
    "colors = [0 if x in hull else 1000 for x in points]\n",
    "print 'points', points\n",
    "print 'hull', hull\n",
    "print 'colors', colors\n",
    "plt.scatter(xs, ys, c=colors)"
   ]
  },
  {
   "cell_type": "code",
   "execution_count": null,
   "metadata": {
    "collapsed": true
   },
   "outputs": [],
   "source": []
  }
 ],
 "metadata": {
  "kernelspec": {
   "display_name": "Python 2",
   "language": "python",
   "name": "python2"
  },
  "language_info": {
   "codemirror_mode": {
    "name": "ipython",
    "version": 2
   },
   "file_extension": ".py",
   "mimetype": "text/x-python",
   "name": "python",
   "nbconvert_exporter": "python",
   "pygments_lexer": "ipython2",
   "version": "2.7.8"
  }
 },
 "nbformat": 4,
 "nbformat_minor": 0
}
