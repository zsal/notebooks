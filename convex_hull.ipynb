{
 "cells": [
  {
   "cell_type": "code",
   "execution_count": 1,
   "metadata": {
    "collapsed": true
   },
   "outputs": [],
   "source": [
    "%matplotlib inline\n",
    "\n",
    "import matplotlib.pyplot as plt\n",
    "import pandas as pd\n",
    "import numpy as np\n",
    "import matplotlib.path as mplPath\n",
    "from math import atan2, degrees, pi\n",
    "\n",
    "def in_shape(pt, shape):\n",
    "    perim = shape + [shape[0]]\n",
    "    shape = mplPath.Path(np.array(perim))\n",
    "    return shape.contains_point(pt)\n",
    "\n",
    "def point_angle(pt, ref):\n",
    "    x1,y1 = pt\n",
    "    x2,y2 = ref\n",
    "    dx = x2 - x1\n",
    "    dy = y2 - y1\n",
    "    rads = atan2(-dy,dx)\n",
    "    rads %= 2*pi\n",
    "    degs = degrees(rads)\n",
    "    return degs\n",
    "\n",
    "def slow_convex_hull(pointsl):\n",
    "    hull = list(pointsl)\n",
    "    points = set(pointsl)\n",
    "    for p1 in points:\n",
    "        for p2 in points - {p1}:\n",
    "            for p3 in points - {p1,p2}:\n",
    "                for p4 in points - {p1,p2,p3}:\n",
    "                    if p4 in hull and in_shape(p4, [p1,p2,p3]):\n",
    "                            hull.remove(p4)\n",
    "    leftmost = min(hull)\n",
    "    hull.sort(key= lambda p: point_angle(p,leftmost))\n",
    "    return hull\n",
    "\n",
    "def partial_greedy_convex_hull(pointsl):\n",
    "    pointsl.sort(key=lambda p: p[1])\n",
    "    low = pointsl.pop(0)\n",
    "    pointsl.sort(key=lambda p: point_angle(p,low))\n",
    "    return pointsl[0], low, pointsl[-1] "
   ]
  },
  {
   "cell_type": "code",
   "execution_count": 2,
   "metadata": {
    "collapsed": false
   },
   "outputs": [
    {
     "data": {
      "text/plain": [
       "[<matplotlib.lines.Line2D at 0x1128ea250>]"
      ]
     },
     "execution_count": 2,
     "metadata": {},
     "output_type": "execute_result"
    },
    {
     "data": {
      "image/png": "[encoded data removed]",
      "text/plain": [
       "<matplotlib.figure.Figure at 0x110606a90>"
      ]
     },
     "metadata": {},
     "output_type": "display_data"
    }
   ],
   "source": [
    "num = 15\n",
    "xs = [np.random.randint(25) for x in xrange(num)]\n",
    "ys = [np.random.randint(25) for x in xrange(num)]\n",
    "points = zip(xs,ys)\n",
    "hull = slow_convex_hull(points)\n",
    "hx,hy = zip(*(hull + [hull[0]]))\n",
    "fig, ax1 = plt.subplots()\n",
    "ax1.scatter(xs, ys, c=[222 if x in hull else 1000 for x in points], s=150)\n",
    "ax1.plot(hx,hy,'-',lw=3)"
   ]
  },
  {
   "cell_type": "code",
   "execution_count": null,
   "metadata": {
    "collapsed": true
   },
   "outputs": [],
   "source": []
  }
 ],
 "metadata": {
  "kernelspec": {
   "display_name": "Python 2",
   "language": "python",
   "name": "python2"
  },
  "language_info": {
   "codemirror_mode": {
    "name": "ipython",
    "version": 2
   },
   "file_extension": ".py",
   "mimetype": "text/x-python",
   "name": "python",
   "nbconvert_exporter": "python",
   "pygments_lexer": "ipython2",
   "version": "2.7.8"
  }
 },
 "nbformat": 4,
 "nbformat_minor": 0
}
